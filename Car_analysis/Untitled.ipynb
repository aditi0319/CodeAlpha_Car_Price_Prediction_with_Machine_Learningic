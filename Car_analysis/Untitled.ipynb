{
 "cells": [
  {
   "cell_type": "markdown",
   "id": "96b4322b-fe7d-4993-8d07-890065c0a3fd",
   "metadata": {},
   "source": [
    "# Import Libraries"
   ]
  },
  {
   "cell_type": "code",
   "execution_count": 14,
   "id": "d36e1677-ba35-4fae-a4ec-07869265adf2",
   "metadata": {},
   "outputs": [],
   "source": [
    "import pandas as pd\n",
    "from sklearn.model_selection import train_test_split\n",
    "from sklearn.ensemble import RandomForestRegressor\n",
    "from sklearn.metrics import mean_absolute_error, mean_squared_error, r2_score\n",
    "import matplotlib.pyplot as plt\n",
    "import seaborn as sns"
   ]
  },
  {
   "cell_type": "markdown",
   "id": "d6ee90b1-1057-4273-ac5b-1108ed67dec2",
   "metadata": {},
   "source": [
    "# Load the Dataset"
   ]
  },
  {
   "cell_type": "code",
   "execution_count": 4,
   "id": "8068d92a-a78b-466a-be35-704a9028b1d0",
   "metadata": {},
   "outputs": [
    {
     "name": "stdout",
     "output_type": "stream",
     "text": [
      "  Car_Name  Year  Selling_Price  Present_Price  Driven_kms Fuel_Type  \\\n",
      "0     ritz  2014           3.35           5.59       27000    Petrol   \n",
      "1      sx4  2013           4.75           9.54       43000    Diesel   \n",
      "2     ciaz  2017           7.25           9.85        6900    Petrol   \n",
      "3  wagon r  2011           2.85           4.15        5200    Petrol   \n",
      "4    swift  2014           4.60           6.87       42450    Diesel   \n",
      "\n",
      "  Selling_type Transmission  Owner  \n",
      "0       Dealer       Manual      0  \n",
      "1       Dealer       Manual      0  \n",
      "2       Dealer       Manual      0  \n",
      "3       Dealer       Manual      0  \n",
      "4       Dealer       Manual      0  \n"
     ]
    }
   ],
   "source": [
    "# Load dataset\n",
    "df = pd.read_csv(\"car data.csv\")\n",
    "print(df.head())\n"
   ]
  },
  {
   "cell_type": "markdown",
   "id": "67ca283e-2c6a-44cd-9ebf-689ffeef7101",
   "metadata": {},
   "source": [
    "# Explore and Clean the Data"
   ]
  },
  {
   "cell_type": "code",
   "execution_count": 16,
   "id": "89057440-9b72-409d-bc3d-31babc5f82f2",
   "metadata": {},
   "outputs": [
    {
     "name": "stdout",
     "output_type": "stream",
     "text": [
      "<class 'pandas.core.frame.DataFrame'>\n",
      "RangeIndex: 301 entries, 0 to 300\n",
      "Columns: 106 entries, Year to Transmission_Manual\n",
      "dtypes: bool(101), object(5)\n",
      "memory usage: 41.6+ KB\n",
      "object\n"
     ]
    }
   ],
   "source": [
    "# View dataset information and statistics\n",
    "df.info()\n",
    "df.describe()\n",
    "\n",
    "# Check for missing values\n",
    "df.isnull().sum()\n",
    "\n",
    "# Drop rows with missing values if necessary\n",
    "df.dropna(inplace=True)\n",
    "\n",
    "# Check the data type of the 'Year' column\n",
    "print(df['Year'].dtype)\n",
    "\n",
    "# If it's not numeric, convert it to integer\n",
    "df['Year'] = pd.to_numeric(df['Year'], errors='coerce')  # Coerce any non-numeric values to NaN\n",
    "\n",
    "# Now, create the 'Car_Age' column\n",
    "df['Car_Age'] = 2024 - df['Year']\n",
    "\n",
    "# If there are NaN values after coercion, you can drop them\n",
    "df.dropna(subset=['Car_Age'], inplace=True)\n"
   ]
  },
  {
   "cell_type": "markdown",
   "id": "5ccbb36b-b2e3-4167-83ed-9609849a9070",
   "metadata": {},
   "source": [
    "#  Feature Selection"
   ]
  },
  {
   "cell_type": "code",
   "execution_count": 21,
   "id": "c0ca2f23-6682-408b-9b99-1be0ddd81006",
   "metadata": {},
   "outputs": [],
   "source": [
    "# Define target variable (Selling Price)\n",
    "X = df.drop(columns=['Selling_Price'])\n",
    "y = df['Selling_Price']\n"
   ]
  },
  {
   "cell_type": "markdown",
   "id": "5e4f87a4-c837-4d18-8564-c9ac01ed2ae9",
   "metadata": {},
   "source": [
    "# Train-Test Split"
   ]
  },
  {
   "cell_type": "code",
   "execution_count": 23,
   "id": "47356dc9-25e5-4f1b-9033-87aa11059efa",
   "metadata": {},
   "outputs": [
    {
     "data": {
      "text/html": [
       "<div>\n",
       "<style scoped>\n",
       "    .dataframe tbody tr th:only-of-type {\n",
       "        vertical-align: middle;\n",
       "    }\n",
       "\n",
       "    .dataframe tbody tr th {\n",
       "        vertical-align: top;\n",
       "    }\n",
       "\n",
       "    .dataframe thead th {\n",
       "        text-align: right;\n",
       "    }\n",
       "</style>\n",
       "<table border=\"1\" class=\"dataframe\">\n",
       "  <thead>\n",
       "    <tr style=\"text-align: right;\">\n",
       "      <th></th>\n",
       "      <th>Year</th>\n",
       "      <th>Selling_Price</th>\n",
       "      <th>Present_Price</th>\n",
       "      <th>Driven_kms</th>\n",
       "      <th>Owner</th>\n",
       "      <th>Car_Name_Activa 3g</th>\n",
       "      <th>Car_Name_Activa 4g</th>\n",
       "      <th>Car_Name_Bajaj  ct 100</th>\n",
       "      <th>Car_Name_Bajaj Avenger 150</th>\n",
       "      <th>Car_Name_Bajaj Avenger 150 street</th>\n",
       "      <th>...</th>\n",
       "      <th>Car_Name_sx4</th>\n",
       "      <th>Car_Name_verna</th>\n",
       "      <th>Car_Name_vitara brezza</th>\n",
       "      <th>Car_Name_wagon r</th>\n",
       "      <th>Car_Name_xcent</th>\n",
       "      <th>Fuel_Type_Diesel</th>\n",
       "      <th>Fuel_Type_Petrol</th>\n",
       "      <th>Selling_type_Individual</th>\n",
       "      <th>Transmission_Manual</th>\n",
       "      <th>Car_Age</th>\n",
       "    </tr>\n",
       "  </thead>\n",
       "  <tbody>\n",
       "  </tbody>\n",
       "</table>\n",
       "<p>0 rows × 107 columns</p>\n",
       "</div>"
      ],
      "text/plain": [
       "Empty DataFrame\n",
       "Columns: [Year, Selling_Price, Present_Price, Driven_kms, Owner, Car_Name_Activa 3g, Car_Name_Activa 4g, Car_Name_Bajaj  ct 100, Car_Name_Bajaj Avenger 150, Car_Name_Bajaj Avenger 150 street, Car_Name_Bajaj Avenger 220, Car_Name_Bajaj Avenger 220 dtsi, Car_Name_Bajaj Avenger Street 220, Car_Name_Bajaj Discover 100, Car_Name_Bajaj Discover 125, Car_Name_Bajaj Dominar 400, Car_Name_Bajaj Pulsar  NS 200, Car_Name_Bajaj Pulsar 135 LS, Car_Name_Bajaj Pulsar 150, Car_Name_Bajaj Pulsar 220 F, Car_Name_Bajaj Pulsar NS 200, Car_Name_Bajaj Pulsar RS200, Car_Name_Hero  CBZ Xtreme, Car_Name_Hero  Ignitor Disc, Car_Name_Hero Extreme, Car_Name_Hero Glamour, Car_Name_Hero Honda CBZ extreme, Car_Name_Hero Honda Passion Pro, Car_Name_Hero Hunk, Car_Name_Hero Passion Pro, Car_Name_Hero Passion X pro, Car_Name_Hero Splender Plus, Car_Name_Hero Splender iSmart, Car_Name_Hero Super Splendor, Car_Name_Honda Activa 125, Car_Name_Honda Activa 4G, Car_Name_Honda CB Hornet 160R, Car_Name_Honda CB Shine, Car_Name_Honda CB Trigger, Car_Name_Honda CB Unicorn, Car_Name_Honda CB twister, Car_Name_Honda CBR 150, Car_Name_Honda Dream Yuga , Car_Name_Honda Karizma, Car_Name_Hyosung GT250R, Car_Name_KTM 390 Duke , Car_Name_KTM RC200, Car_Name_KTM RC390, Car_Name_Mahindra Mojo XT300, Car_Name_Royal Enfield Bullet 350, Car_Name_Royal Enfield Classic 350, Car_Name_Royal Enfield Classic 500, Car_Name_Royal Enfield Thunder 350, Car_Name_Royal Enfield Thunder 500, Car_Name_Suzuki Access 125, Car_Name_TVS Apache RTR 160, Car_Name_TVS Apache RTR 180, Car_Name_TVS Jupyter, Car_Name_TVS Sport , Car_Name_TVS Wego, Car_Name_UM Renegade Mojave, Car_Name_Yamaha FZ  v 2.0, Car_Name_Yamaha FZ 16, Car_Name_Yamaha FZ S , Car_Name_Yamaha FZ S V 2.0, Car_Name_Yamaha Fazer , Car_Name_alto 800, Car_Name_alto k10, Car_Name_amaze, Car_Name_baleno, Car_Name_brio, Car_Name_camry, Car_Name_ciaz, Car_Name_city, Car_Name_corolla, Car_Name_corolla altis, Car_Name_creta, Car_Name_dzire, Car_Name_elantra, Car_Name_eon, Car_Name_ertiga, Car_Name_etios cross, Car_Name_etios g, Car_Name_etios gd, Car_Name_etios liva, Car_Name_fortuner, Car_Name_grand i10, Car_Name_i10, Car_Name_i20, Car_Name_ignis, Car_Name_innova, Car_Name_jazz, Car_Name_land cruiser, Car_Name_omni, Car_Name_ritz, Car_Name_s cross, Car_Name_swift, Car_Name_sx4, Car_Name_verna, Car_Name_vitara brezza, ...]\n",
       "Index: []\n",
       "\n",
       "[0 rows x 107 columns]"
      ]
     },
     "execution_count": 23,
     "metadata": {},
     "output_type": "execute_result"
    }
   ],
   "source": [
    "\n"
   ]
  },
  {
   "cell_type": "code",
   "execution_count": null,
   "id": "16f60068-7882-46bd-bbaa-bdc4e34edff2",
   "metadata": {},
   "outputs": [],
   "source": []
  }
 ],
 "metadata": {
  "kernelspec": {
   "display_name": "Python 3 (ipykernel)",
   "language": "python",
   "name": "python3"
  },
  "language_info": {
   "codemirror_mode": {
    "name": "ipython",
    "version": 3
   },
   "file_extension": ".py",
   "mimetype": "text/x-python",
   "name": "python",
   "nbconvert_exporter": "python",
   "pygments_lexer": "ipython3",
   "version": "3.12.2"
  }
 },
 "nbformat": 4,
 "nbformat_minor": 5
}
